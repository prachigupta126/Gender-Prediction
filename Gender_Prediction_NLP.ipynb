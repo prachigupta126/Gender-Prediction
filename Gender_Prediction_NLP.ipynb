{
 "cells": [
  {
   "cell_type": "code",
   "execution_count": 24,
   "metadata": {
    "collapsed": true
   },
   "outputs": [],
   "source": [
    "import pandas as pd\n",
    "import os\n",
    "os.chdir('C:/Uconn MSBA/studies/Kaggle/data and code/classification/gender prediction')\n",
    "import re"
   ]
  },
  {
   "cell_type": "code",
   "execution_count": 25,
   "metadata": {
    "collapsed": true
   },
   "outputs": [],
   "source": [
    "train = pd.read_csv('train.csv')\n",
    "test = pd.read_csv('test.csv')"
   ]
  },
  {
   "cell_type": "code",
   "execution_count": 26,
   "metadata": {},
   "outputs": [
    {
     "data": {
      "text/html": [
       "<div>\n",
       "<style>\n",
       "    .dataframe thead tr:only-child th {\n",
       "        text-align: right;\n",
       "    }\n",
       "\n",
       "    .dataframe thead th {\n",
       "        text-align: left;\n",
       "    }\n",
       "\n",
       "    .dataframe tbody tr th {\n",
       "        vertical-align: top;\n",
       "    }\n",
       "</style>\n",
       "<table border=\"1\" class=\"dataframe\">\n",
       "  <thead>\n",
       "    <tr style=\"text-align: right;\">\n",
       "      <th></th>\n",
       "      <th>username</th>\n",
       "      <th>gender</th>\n",
       "      <th>status</th>\n",
       "      <th>description</th>\n",
       "    </tr>\n",
       "  </thead>\n",
       "  <tbody>\n",
       "    <tr>\n",
       "      <th>0</th>\n",
       "      <td>Vimal20011</td>\n",
       "      <td>M</td>\n",
       "      <td>{u'payment_verified': False, u'identity_verifi...</td>\n",
       "      <td>A team of 5 working on various projects relate...</td>\n",
       "    </tr>\n",
       "    <tr>\n",
       "      <th>1</th>\n",
       "      <td>sheom</td>\n",
       "      <td>M</td>\n",
       "      <td>{u'payment_verified': True, u'identity_verifie...</td>\n",
       "      <td>We are an IT solution and service provider com...</td>\n",
       "    </tr>\n",
       "    <tr>\n",
       "      <th>2</th>\n",
       "      <td>ezbik</td>\n",
       "      <td>M</td>\n",
       "      <td>{u'payment_verified': False, u'identity_verifi...</td>\n",
       "      <td>System administration is my work &amp; hobby.</td>\n",
       "    </tr>\n",
       "    <tr>\n",
       "      <th>3</th>\n",
       "      <td>angelme</td>\n",
       "      <td>F</td>\n",
       "      <td>{u'payment_verified': False, u'identity_verifi...</td>\n",
       "      <td>Good day! Thank you for taking some time to ch...</td>\n",
       "    </tr>\n",
       "    <tr>\n",
       "      <th>4</th>\n",
       "      <td>snitch1</td>\n",
       "      <td>M</td>\n",
       "      <td>{u'payment_verified': False, u'identity_verifi...</td>\n",
       "      <td>I build good relation with clients and deliver...</td>\n",
       "    </tr>\n",
       "  </tbody>\n",
       "</table>\n",
       "</div>"
      ],
      "text/plain": [
       "     username gender                                             status  \\\n",
       "0  Vimal20011      M  {u'payment_verified': False, u'identity_verifi...   \n",
       "1       sheom      M  {u'payment_verified': True, u'identity_verifie...   \n",
       "2       ezbik      M  {u'payment_verified': False, u'identity_verifi...   \n",
       "3     angelme      F  {u'payment_verified': False, u'identity_verifi...   \n",
       "4     snitch1      M  {u'payment_verified': False, u'identity_verifi...   \n",
       "\n",
       "                                         description  \n",
       "0  A team of 5 working on various projects relate...  \n",
       "1  We are an IT solution and service provider com...  \n",
       "2          System administration is my work & hobby.  \n",
       "3  Good day! Thank you for taking some time to ch...  \n",
       "4  I build good relation with clients and deliver...  "
      ]
     },
     "execution_count": 26,
     "metadata": {},
     "output_type": "execute_result"
    }
   ],
   "source": [
    "train.head()"
   ]
  },
  {
   "cell_type": "code",
   "execution_count": 27,
   "metadata": {},
   "outputs": [
    {
     "data": {
      "text/html": [
       "<div>\n",
       "<style>\n",
       "    .dataframe thead tr:only-child th {\n",
       "        text-align: right;\n",
       "    }\n",
       "\n",
       "    .dataframe thead th {\n",
       "        text-align: left;\n",
       "    }\n",
       "\n",
       "    .dataframe tbody tr th {\n",
       "        vertical-align: top;\n",
       "    }\n",
       "</style>\n",
       "<table border=\"1\" class=\"dataframe\">\n",
       "  <thead>\n",
       "    <tr style=\"text-align: right;\">\n",
       "      <th></th>\n",
       "      <th>username</th>\n",
       "      <th>status</th>\n",
       "      <th>description</th>\n",
       "    </tr>\n",
       "  </thead>\n",
       "  <tbody>\n",
       "    <tr>\n",
       "      <th>0</th>\n",
       "      <td>nazrulmadina</td>\n",
       "      <td>{u'payment_verified': False, u'identity_verifi...</td>\n",
       "      <td>I am one of Self-employed person having more t...</td>\n",
       "    </tr>\n",
       "    <tr>\n",
       "      <th>1</th>\n",
       "      <td>SehrishWarraich</td>\n",
       "      <td>{u'payment_verified': False, u'identity_verifi...</td>\n",
       "      <td>i am sehrish warraich.I do my job sincerelly a...</td>\n",
       "    </tr>\n",
       "    <tr>\n",
       "      <th>2</th>\n",
       "      <td>samadhinie</td>\n",
       "      <td>{u'payment_verified': False, u'identity_verifi...</td>\n",
       "      <td>Since 2006, Web based solution provider (Web e...</td>\n",
       "    </tr>\n",
       "    <tr>\n",
       "      <th>3</th>\n",
       "      <td>ebottabi</td>\n",
       "      <td>{u'payment_verified': False, u'identity_verifi...</td>\n",
       "      <td>Founder of  a geolocation service developed on...</td>\n",
       "    </tr>\n",
       "    <tr>\n",
       "      <th>4</th>\n",
       "      <td>mrjimoy</td>\n",
       "      <td>{u'payment_verified': False, u'identity_verifi...</td>\n",
       "      <td>Me? I am Jimmy, meaning honest, courageous, or...</td>\n",
       "    </tr>\n",
       "  </tbody>\n",
       "</table>\n",
       "</div>"
      ],
      "text/plain": [
       "          username                                             status  \\\n",
       "0     nazrulmadina  {u'payment_verified': False, u'identity_verifi...   \n",
       "1  SehrishWarraich  {u'payment_verified': False, u'identity_verifi...   \n",
       "2       samadhinie  {u'payment_verified': False, u'identity_verifi...   \n",
       "3         ebottabi  {u'payment_verified': False, u'identity_verifi...   \n",
       "4          mrjimoy  {u'payment_verified': False, u'identity_verifi...   \n",
       "\n",
       "                                         description  \n",
       "0  I am one of Self-employed person having more t...  \n",
       "1  i am sehrish warraich.I do my job sincerelly a...  \n",
       "2  Since 2006, Web based solution provider (Web e...  \n",
       "3  Founder of  a geolocation service developed on...  \n",
       "4  Me? I am Jimmy, meaning honest, courageous, or...  "
      ]
     },
     "execution_count": 27,
     "metadata": {},
     "output_type": "execute_result"
    }
   ],
   "source": [
    "test.head()"
   ]
  },
  {
   "cell_type": "markdown",
   "metadata": {},
   "source": [
    "## 1. Predicting Gender with Username\n"
   ]
  },
  {
   "cell_type": "code",
   "execution_count": 28,
   "metadata": {
    "collapsed": true
   },
   "outputs": [],
   "source": [
    "import nltk\n",
    "import numpy as np\n",
    "from nltk.classify import SklearnClassifier\n",
    "from sklearn.svm import SVC\n",
    "from sklearn.model_selection import KFold\n",
    "import re\n",
    "\n"
   ]
  },
  {
   "cell_type": "markdown",
   "metadata": {},
   "source": [
    "# 1.1 Creating the new features"
   ]
  },
  {
   "cell_type": "code",
   "execution_count": 29,
   "metadata": {},
   "outputs": [],
   "source": [
    "def extract_features(name):\n",
    "    name_lower = name.lower()\n",
    "    for c in name_lower:\n",
    "        if c.isdigit()==True:\n",
    "            name_lower=name_lower.replace(c,'')\n",
    "    features={\n",
    "        'last':name_lower[-1],\n",
    "        'last_two':name_lower[-2:],\n",
    "        'last_three':name_lower[-3:],\n",
    "        'first':name_lower[0],\n",
    "        'first2':name_lower[:1],\n",
    "        'first3':name_lower[:2],\n",
    "        'Capitalornot':bool(re.search('[A-Z]', name)),\n",
    "        'countofvowel' : len(re.findall('[aeiou]+', name_lower)),\n",
    "         \n",
    "    }\n",
    "    return features"
   ]
  },
  {
   "cell_type": "code",
   "execution_count": 33,
   "metadata": {},
   "outputs": [],
   "source": [
    "# Extracting features of the user name\n",
    "trainFeatures=[(extract_features(userName),gender) for \n",
    "               userName,gender in zip(train.username,train.gender)]\n",
    "\n"
   ]
  },
  {
   "cell_type": "markdown",
   "metadata": {},
   "source": [
    "# decision tree classifier"
   ]
  },
  {
   "cell_type": "code",
   "execution_count": 20,
   "metadata": {},
   "outputs": [
    {
     "name": "stdout",
     "output_type": "stream",
     "text": [
      "accuracy: 0.9968\n",
      "accuracy: 0.9976\n",
      "accuracy: 0.9952\n",
      "accuracy: 0.9928\n",
      "accuracy: 0.9959967974379503\n",
      "CV mean accuracy: 0.9956793594875901\n"
     ]
    }
   ],
   "source": [
    "# Decision Tree Classifier \n",
    "from sklearn.model_selection import KFold\n",
    "import numpy as np\n",
    "k_fold = KFold(n_splits=5, shuffle=True)\n",
    "accu = []\n",
    "for train_idx, test_idx in k_fold.split(feature_sets):\n",
    "    training = [feature_sets[i] for i in train_idx]\n",
    "    testing = [feature_sets[i] for i in test_idx]\n",
    "    classifier_dt = nltk.classify.DecisionTreeClassifier.train(feature_sets, entropy_cutoff=0,support_cutoff=0)   \n",
    "    accu.append( nltk.classify.util.accuracy(classifier_dt, testing) )\n",
    "    print('accuracy:', accu[len(accu)-1])    \n",
    "print('CV mean accuracy:', np.mean(accu))  "
   ]
  },
  {
   "cell_type": "code",
   "execution_count": 15,
   "metadata": {
    "collapsed": true
   },
   "outputs": [],
   "source": [
    "# Predicting the gender suinf model\n",
    "name = ([extract_features(n) for n in username])\n",
    "pred_gender_train = [classifier_dt.classify(n) for n in name]"
   ]
  },
  {
   "cell_type": "markdown",
   "metadata": {},
   "source": [
    "# Logistic Regression "
   ]
  },
  {
   "cell_type": "code",
   "execution_count": 34,
   "metadata": {},
   "outputs": [
    {
     "name": "stdout",
     "output_type": "stream",
     "text": [
      "accuracy: 0.8088\n",
      "accuracy: 0.792\n",
      "accuracy: 0.7968\n",
      "accuracy: 0.7904\n",
      "accuracy: 0.7846277021617294\n",
      "CV mean accuracy: 0.7945255404323458\n"
     ]
    }
   ],
   "source": [
    "# Logistic regression\n",
    "from sklearn.linear_model import LogisticRegression\n",
    "from nltk.classify import SklearnClassifier\n",
    "k_fold = KFold(n_splits=5, shuffle=True)\n",
    "accu = []\n",
    "for train_idx, test_idx in k_fold.split(trainFeatures):\n",
    "    trainSet = [trainFeatures[i] for i in train_idx]\n",
    "    testSet = [trainFeatures[i] for i in test_idx]\n",
    "    classifier = SklearnClassifier(LogisticRegression(C=10, random_state=1), sparse=True).train(trainSet)       \n",
    "    accu.append( nltk.classify.util.accuracy(classifier, testSet) )\n",
    "    print('accuracy:', accu[len(accu)-1])    \n",
    "print('CV mean accuracy:', np.mean(accu))"
   ]
  },
  {
   "cell_type": "markdown",
   "metadata": {},
   "source": [
    "# Naiva bayes Classifier"
   ]
  },
  {
   "cell_type": "code",
   "execution_count": 36,
   "metadata": {},
   "outputs": [
    {
     "name": "stdout",
     "output_type": "stream",
     "text": [
      "accuracy: 0.7624\n",
      "accuracy: 0.7376\n",
      "accuracy: 0.7624\n",
      "accuracy: 0.7432\n",
      "accuracy: 0.7461969575660529\n",
      "CV mean accuracy: 0.7503593915132105\n"
     ]
    }
   ],
   "source": [
    "# Naive bayes classifier\n",
    "k_fold = KFold(n_splits=5, shuffle=True)\n",
    "accu = []\n",
    "for train_idx, test_idx in k_fold.split(trainFeatures):\n",
    "    trainSet = [trainFeatures[i] for i in train_idx]\n",
    "    testSet = [trainFeatures[i] for i in test_idx]\n",
    "    classifier = nltk.NaiveBayesClassifier.train(trainSet)   \n",
    "    accu.append( nltk.classify.util.accuracy(classifier,testSet) )\n",
    "    print('accuracy:', accu[len(accu)-1])    \n",
    "print('CV mean accuracy:', np.mean(accu))"
   ]
  },
  {
   "cell_type": "code",
   "execution_count": 37,
   "metadata": {},
   "outputs": [
    {
     "name": "stdout",
     "output_type": "stream",
     "text": [
      "Most Informative Features\n",
      "                last_two = 'va'                F : M      =     12.1 : 1.0\n",
      "                  first3 = 'jw'                F : M      =     11.1 : 1.0\n",
      "                  first3 = 'my'                F : M      =      6.9 : 1.0\n",
      "              last_three = 'ita'               F : M      =      6.6 : 1.0\n",
      "                  first3 = 'ee'                F : M      =      6.2 : 1.0\n",
      "                  first3 = 'jg'                F : M      =      6.2 : 1.0\n",
      "                  first3 = 'tw'                F : M      =      6.2 : 1.0\n",
      "                  first3 = 'oa'                F : M      =      6.2 : 1.0\n",
      "                  first3 = 'pd'                F : M      =      6.2 : 1.0\n",
      "                  first3 = 'cb'                F : M      =      6.2 : 1.0\n",
      "                  first3 = 'rl'                F : M      =      6.2 : 1.0\n",
      "                last_two = 'oi'                F : M      =      6.1 : 1.0\n",
      "                last_two = 'gy'                F : M      =      6.1 : 1.0\n",
      "              last_three = 'ras'               F : M      =      5.9 : 1.0\n",
      "              last_three = 'ann'               F : M      =      5.9 : 1.0\n",
      "              last_three = 'gal'               F : M      =      5.9 : 1.0\n",
      "              last_three = 'ber'               F : M      =      5.9 : 1.0\n",
      "              last_three = 'nny'               F : M      =      5.9 : 1.0\n",
      "                last_two = 'nn'                F : M      =      5.8 : 1.0\n",
      "              last_three = 'ess'               F : M      =      5.6 : 1.0\n",
      "None\n"
     ]
    }
   ],
   "source": [
    "# Most informative features\n",
    "print (classifier_nb.show_most_informative_features(20))"
   ]
  },
  {
   "cell_type": "markdown",
   "metadata": {
    "collapsed": true
   },
   "source": [
    "# Classifiers from scikit learn"
   ]
  },
  {
   "cell_type": "code",
   "execution_count": 70,
   "metadata": {},
   "outputs": [
    {
     "name": "stdout",
     "output_type": "stream",
     "text": [
      "accuracy: 0.7344\n",
      "accuracy: 0.7688\n",
      "accuracy: 0.7544\n",
      "accuracy: 0.7352\n",
      "accuracy: 0.7598078462770216\n",
      "CV mean accuracy: 0.750521569255\n"
     ]
    }
   ],
   "source": [
    "from nltk.classify import SklearnClassifier\n",
    "from sklearn.svm import SVC\n",
    "k_fold = KFold(n_splits=5, shuffle=True)\n",
    "accu = []\n",
    "for train_idx, test_idx in k_fold.split(featuresets):\n",
    "    training = [featuresets[i] for i in train_idx]\n",
    "    testing = [featuresets[i] for i in test_idx]\n",
    "    classifier_sk = SklearnClassifier(SVC(kernel='linear', C=10, random_state=1), sparse=True).train(training)       \n",
    "    accu.append( nltk.classify.util.accuracy(classifier_sk, testing) )\n",
    "    print('accuracy:', accu[len(accu)-1])    \n",
    "print('CV mean accuracy:', np.mean(accu)) "
   ]
  },
  {
   "cell_type": "markdown",
   "metadata": {},
   "source": [
    "# Decision Tree"
   ]
  },
  {
   "cell_type": "code",
   "execution_count": 38,
   "metadata": {},
   "outputs": [
    {
     "name": "stdout",
     "output_type": "stream",
     "text": [
      "accuracy: 0.7568\n",
      "accuracy: 0.7608\n",
      "accuracy: 0.7872\n",
      "accuracy: 0.7848\n",
      "accuracy: 0.7694155324259407\n",
      "CV mean accuracy: 0.7718031064851882\n"
     ]
    }
   ],
   "source": [
    "# Decision tree\n",
    "k_fold = KFold(n_splits=5, shuffle=True)\n",
    "accu = []\n",
    "for train_idx, test_idx in k_fold.split(trainFeatures):\n",
    "    trainSet = [trainFeatures[i] for i in train_idx]\n",
    "    testSet = [trainFeatures[i] for i in test_idx]\n",
    "    classifier = nltk.DecisionTreeClassifier.train(trainSet)   \n",
    "    accu.append( nltk.classify.util.accuracy(classifier,testSet) )\n",
    "    print('accuracy:', accu[len(accu)-1])    \n",
    "print('CV mean accuracy:', np.mean(accu))"
   ]
  },
  {
   "cell_type": "code",
   "execution_count": 40,
   "metadata": {},
   "outputs": [],
   "source": [
    "# Predicting gender of the test set based on decisionn tree classifier\n",
    "predictionsTest=[]\n",
    "for name in test.username:\n",
    "    predUserName=classifier.classify(extract_features(name))\n",
    "    predictionsTest.append(predUserName)"
   ]
  },
  {
   "cell_type": "markdown",
   "metadata": {
    "collapsed": true
   },
   "source": [
    "# Maximum Entropy Classifier"
   ]
  },
  {
   "cell_type": "code",
   "execution_count": 71,
   "metadata": {},
   "outputs": [
    {
     "name": "stdout",
     "output_type": "stream",
     "text": [
      "  ==> Training (20 iterations)\n",
      "\n",
      "      Iteration    Log Likelihood    Accuracy\n",
      "      ---------------------------------------\n",
      "             1          -0.69315        0.813\n",
      "             2          -0.34059        0.813\n",
      "             3          -0.31516        0.818\n",
      "             4          -0.29484        0.836\n",
      "             5          -0.27841        0.852\n",
      "             6          -0.26481        0.866\n",
      "             7          -0.25330        0.876\n",
      "             8          -0.24339        0.887\n",
      "             9          -0.23475        0.894\n",
      "            10          -0.22712        0.900\n",
      "            11          -0.22033        0.903\n",
      "            12          -0.21425        0.908\n",
      "            13          -0.20875        0.913\n",
      "            14          -0.20376        0.917\n",
      "            15          -0.19921        0.919\n",
      "            16          -0.19504        0.922\n",
      "            17          -0.19120        0.923\n",
      "            18          -0.18765        0.926\n",
      "            19          -0.18437        0.927\n",
      "         Final          -0.18131        0.928\n",
      "accuracy: 0.7928\n",
      "  ==> Training (20 iterations)\n",
      "\n",
      "      Iteration    Log Likelihood    Accuracy\n",
      "      ---------------------------------------\n",
      "             1          -0.69315        0.814\n",
      "             2          -0.34182        0.814\n",
      "             3          -0.31646        0.819\n",
      "             4          -0.29604        0.833\n",
      "             5          -0.27945        0.850\n",
      "             6          -0.26568        0.864\n",
      "             7          -0.25401        0.878\n",
      "             8          -0.24396        0.886\n",
      "             9          -0.23519        0.891\n",
      "            10          -0.22745        0.897\n",
      "            11          -0.22056        0.904\n",
      "            12          -0.21439        0.910\n",
      "            13          -0.20881        0.913\n",
      "            14          -0.20375        0.917\n",
      "            15          -0.19913        0.921\n",
      "            16          -0.19489        0.925\n",
      "            17          -0.19100        0.927\n",
      "            18          -0.18740        0.927\n",
      "            19          -0.18406        0.929\n",
      "         Final          -0.18095        0.930\n",
      "accuracy: 0.7888\n",
      "  ==> Training (20 iterations)\n",
      "\n",
      "      Iteration    Log Likelihood    Accuracy\n",
      "      ---------------------------------------\n",
      "             1          -0.69315        0.814\n",
      "             2          -0.34287        0.814\n",
      "             3          -0.31759        0.818\n",
      "             4          -0.29716        0.833\n",
      "             5          -0.28052        0.849\n",
      "             6          -0.26668        0.864\n",
      "             7          -0.25493        0.875\n",
      "             8          -0.24479        0.887\n",
      "             9          -0.23593        0.897\n",
      "            10          -0.22811        0.905\n",
      "            11          -0.22115        0.910\n",
      "            12          -0.21490        0.914\n",
      "            13          -0.20925        0.919\n",
      "            14          -0.20412        0.922\n",
      "            15          -0.19944        0.924\n",
      "            16          -0.19515        0.927\n",
      "            17          -0.19120        0.928\n",
      "            18          -0.18755        0.930\n",
      "            19          -0.18416        0.931\n",
      "         Final          -0.18102        0.930\n",
      "accuracy: 0.7952\n",
      "  ==> Training (20 iterations)\n",
      "\n",
      "      Iteration    Log Likelihood    Accuracy\n",
      "      ---------------------------------------\n",
      "             1          -0.69315        0.812\n",
      "             2          -0.34353        0.812\n",
      "             3          -0.31781        0.816\n",
      "             4          -0.29725        0.832\n",
      "             5          -0.28065        0.850\n",
      "             6          -0.26691        0.865\n",
      "             7          -0.25529        0.877\n",
      "             8          -0.24528        0.886\n",
      "             9          -0.23655        0.893\n",
      "            10          -0.22885        0.899\n",
      "            11          -0.22200        0.903\n",
      "            12          -0.21585        0.907\n",
      "            13          -0.21031        0.911\n",
      "            14          -0.20527        0.914\n",
      "            15          -0.20068        0.917\n",
      "            16          -0.19647        0.920\n",
      "            17          -0.19260        0.922\n",
      "            18          -0.18902        0.923\n",
      "            19          -0.18571        0.925\n",
      "         Final          -0.18263        0.926\n",
      "accuracy: 0.7968\n",
      "  ==> Training (20 iterations)\n",
      "\n",
      "      Iteration    Log Likelihood    Accuracy\n",
      "      ---------------------------------------\n",
      "             1          -0.69315        0.811\n",
      "             2          -0.34621        0.811\n",
      "             3          -0.32026        0.818\n",
      "             4          -0.29959        0.833\n",
      "             5          -0.28290        0.851\n",
      "             6          -0.26908        0.863\n",
      "             7          -0.25741        0.874\n",
      "             8          -0.24738        0.882\n",
      "             9          -0.23863        0.890\n",
      "            10          -0.23093        0.897\n",
      "            11          -0.22407        0.902\n",
      "            12          -0.21793        0.907\n",
      "            13          -0.21239        0.911\n",
      "            14          -0.20736        0.914\n",
      "            15          -0.20277        0.917\n",
      "            16          -0.19857        0.920\n",
      "            17          -0.19470        0.923\n",
      "            18          -0.19113        0.925\n",
      "            19          -0.18781        0.925\n",
      "         Final          -0.18473        0.927\n",
      "accuracy: 0.7878302642113691\n",
      "CV mean accuracy: 0.792286052842\n"
     ]
    }
   ],
   "source": [
    "#Maximum Entropy Classifier\n",
    "k_fold = KFold(n_splits=5,shuffle =True)\n",
    "accu=[]\n",
    "Xy=list(zip(featuresets,train['gender']))\n",
    "for train_idx, test_idx in k_fold.split(featuresets):\n",
    "    training = [featuresets[i] for i in train_idx]\n",
    "    testing = [featuresets[i] for i in test_idx]\n",
    "    classifier_maxentr = nltk.classify.MaxentClassifier.train(training, trace=3, max_iter=20)       \n",
    "    accu.append( nltk.classify.util.accuracy(classifier_maxentr, testing) )\n",
    "    print('accuracy:', accu[len(accu)-1])    \n",
    "print('CV mean accuracy:', np.mean(accu)) "
   ]
  },
  {
   "cell_type": "code",
   "execution_count": null,
   "metadata": {
    "collapsed": true
   },
   "outputs": [],
   "source": [
    "classifier.show_most_informative_features(10)"
   ]
  },
  {
   "cell_type": "markdown",
   "metadata": {},
   "source": [
    "## 2. Predicting Gender with Description\n",
    "The updated notebook for lecture 11 might be of some help, which now includes demo code for making predictions with NLTK classifier."
   ]
  },
  {
   "cell_type": "markdown",
   "metadata": {},
   "source": [
    "# preprocessig of the data"
   ]
  },
  {
   "cell_type": "code",
   "execution_count": 8,
   "metadata": {
    "collapsed": true
   },
   "outputs": [],
   "source": [
    "from nltk.corpus import stopwords\n",
    "from nltk.stem import PorterStemmer\n",
    "import string\n",
    "ps = PorterStemmer()\n",
    "from nltk.tokenize import word_tokenize\n",
    "def preprocess(text):\n",
    "    return [ps.stem(w) for w in word_tokenize(text.lower()) \n",
    "             if w not in string.punctuation and w not in stopwords.words('english')] "
   ]
  },
  {
   "cell_type": "code",
   "execution_count": 9,
   "metadata": {
    "collapsed": true
   },
   "outputs": [],
   "source": [
    "def extract_features(words, selected_words):\n",
    "    ''' simply using words counts'''\n",
    "    return nltk.FreqDist([w for w in words if w in selected_words])"
   ]
  },
  {
   "cell_type": "code",
   "execution_count": 10,
   "metadata": {
    "collapsed": true
   },
   "outputs": [],
   "source": [
    "data_list=list(zip(train['gender'],train['description'])) "
   ]
  },
  {
   "cell_type": "code",
   "execution_count": 11,
   "metadata": {
    "collapsed": true
   },
   "outputs": [],
   "source": [
    "#appending all the description in a list called description with their gender together\n",
    "\n",
    "for i in range(len(data_list)):\n",
    "    if(i==0):\n",
    "        description = [(preprocess(data_list[i][1]), data_list[i][0])]\n",
    "    else:\n",
    "        description = description+[(preprocess(data_list[i][1]), data_list[i][0])]"
   ]
  },
  {
   "cell_type": "code",
   "execution_count": 23,
   "metadata": {},
   "outputs": [
    {
     "data": {
      "text/plain": [
       "(['team',\n",
       "  '5',\n",
       "  'work',\n",
       "  'variou',\n",
       "  'project',\n",
       "  'relat',\n",
       "  'data',\n",
       "  'entri',\n",
       "  'research',\n",
       "  'work',\n",
       "  'content',\n",
       "  'write'],\n",
       " 'M')"
      ]
     },
     "execution_count": 23,
     "metadata": {},
     "output_type": "execute_result"
    }
   ],
   "source": [
    "description[0]"
   ]
  },
  {
   "cell_type": "code",
   "execution_count": 24,
   "metadata": {
    "collapsed": true
   },
   "outputs": [],
   "source": [
    "#flatten the words into one list\n",
    "all_words = [w for words, c in description for w in words]\n"
   ]
  },
  {
   "cell_type": "code",
   "execution_count": 29,
   "metadata": {
    "collapsed": true
   },
   "outputs": [],
   "source": [
    "words_freq = (nltk.FreqDist(all_words))\n",
    "#words_freq.items()"
   ]
  },
  {
   "cell_type": "code",
   "execution_count": 109,
   "metadata": {},
   "outputs": [
    {
     "name": "stdout",
     "output_type": "stream",
     "text": [
      "Before: 36128 , after: 9953\n"
     ]
    }
   ],
   "source": [
    "selected_words = [word for word, freq in words_freq.items() if freq>1]\n",
    "print('Before:',len(words_freq), ', after:', len(selected_words))"
   ]
  },
  {
   "cell_type": "code",
   "execution_count": null,
   "metadata": {
    "collapsed": true
   },
   "outputs": [],
   "source": [
    "description = [([w for w in words if w in selected_words], c) for words, c in description]\n"
   ]
  },
  {
   "cell_type": "code",
   "execution_count": 111,
   "metadata": {
    "collapsed": true
   },
   "outputs": [],
   "source": [
    "feat = [(extract_features(words,selected_words), c) for words, c in description]"
   ]
  },
  {
   "cell_type": "code",
   "execution_count": 26,
   "metadata": {},
   "outputs": [
    {
     "name": "stdout",
     "output_type": "stream",
     "text": [
      "Before: 36128 , after: 9953\n"
     ]
    }
   ],
   "source": [
    "print('Before:',len(words_freq), ', after:',len(selected_words))\n"
   ]
  },
  {
   "cell_type": "markdown",
   "metadata": {},
   "source": [
    "# Naive Bayes Classifier"
   ]
  },
  {
   "cell_type": "code",
   "execution_count": null,
   "metadata": {
    "collapsed": true
   },
   "outputs": [],
   "source": [
    "# 2. Cross-Valiation\n",
    "from sklearn.model_selection import KFold\n",
    "import numpy as np\n",
    "k_fold = KFold(n_splits=5, shuffle=True)\n",
    "accu = []\n",
    "for train_idx, test_idx in k_fold.split(feat):\n",
    "    training = [feat[i] for i in train_idx]\n",
    "    testing = [feat[i] for i in test_idx]\n",
    "    classifier2_nb = nltk.NaiveBayesClassifier.train(training)   \n",
    "    accu.append( nltk.classify.util.accuracy(classifier2_nb, testing) )\n",
    "    print('accuracy:', accu[len(accu)-1])    \n",
    "print('CV mean accuracy:', np.mean(accu))    "
   ]
  },
  {
   "cell_type": "markdown",
   "metadata": {},
   "source": [
    "# Maximum Entropy Classifier"
   ]
  },
  {
   "cell_type": "code",
   "execution_count": null,
   "metadata": {},
   "outputs": [
    {
     "name": "stdout",
     "output_type": "stream",
     "text": [
      "  ==> Training (5 iterations)\n",
      "\n",
      "      Iteration    Log Likelihood    Accuracy\n",
      "      ---------------------------------------\n",
      "             1          -0.69315        0.812\n",
      "             2          -0.38878        0.801\n",
      "             3          -0.34664        0.786\n",
      "             4          -0.33367        0.766\n",
      "         Final          -0.32691        0.760\n",
      "accuracy: 0.7568\n",
      "  ==> Training (5 iterations)\n",
      "\n",
      "      Iteration    Log Likelihood    Accuracy\n",
      "      ---------------------------------------\n",
      "             1          -0.69315        0.813\n",
      "             2          -0.33899        0.808\n",
      "             3          -0.29428        0.803\n",
      "             4          -0.27898        0.797\n",
      "         Final          -0.27112        0.792\n",
      "accuracy: 0.7904\n",
      "  ==> Training (5 iterations)\n",
      "\n",
      "      Iteration    Log Likelihood    Accuracy\n",
      "      ---------------------------------------\n",
      "             1          -0.69315        0.813\n",
      "             2          -0.37328        0.803\n",
      "             3          -0.32308        0.793\n"
     ]
    }
   ],
   "source": [
    "k_fold = KFold(n_splits=5, shuffle=True)\n",
    "accu = []\n",
    "for train_idx, test_idx in k_fold.split(feat):\n",
    "    train = [feat[i] for i in train_idx]\n",
    "    test = [feat[i] for i in test_idx]\n",
    "    classifier2_me = nltk.classify.MaxentClassifier.train(train, trace=3, max_iter=5)       \n",
    "    accu.append( nltk.classify.util.accuracy(classifier2_me, test) )\n",
    "    print('accuracy:', accu[len(accu)-1])    \n",
    "print('CV mean accuracy:', np.mean(accu)) "
   ]
  },
  {
   "cell_type": "markdown",
   "metadata": {},
   "source": [
    "# scikit learn"
   ]
  },
  {
   "cell_type": "code",
   "execution_count": 98,
   "metadata": {},
   "outputs": [
    {
     "name": "stdout",
     "output_type": "stream",
     "text": [
      "accuracy: 0.8008\n",
      "accuracy: 0.804\n",
      "accuracy: 0.812\n",
      "accuracy: 0.8304\n",
      "accuracy: 0.8134507606084868\n",
      "CV mean accuracy: 0.812130152122\n"
     ]
    }
   ],
   "source": [
    "from nltk.classify import SklearnClassifier\n",
    "from sklearn.svm import SVC\n",
    "k_fold = KFold(n_splits=5, shuffle=True)\n",
    "accu = []\n",
    "for train_idx, test_idx in k_fold.split(feat):\n",
    "    train = [feat[i] for i in train_idx]\n",
    "    test = [feat[i] for i in test_idx]\n",
    "    classifier2_sk = SklearnClassifier(SVC(kernel='linear', C=10, random_state=1), sparse=True).train(train)       \n",
    "    accu.append( nltk.classify.util.accuracy(classifier2_sk, test) )\n",
    "    print('accuracy:', accu[len(accu)-1])    \n",
    "print('CV mean accuracy:', np.mean(accu)) "
   ]
  },
  {
   "cell_type": "code",
   "execution_count": null,
   "metadata": {
    "collapsed": true
   },
   "outputs": [],
   "source": [
    "clf_desc =nltk.classify.MaxentClassifier.train(zip_X_y,trace=3,max_iter=30)\n",
    "pred_desc = [clf_desc.classify(row) for row in feat_desc_test]"
   ]
  },
  {
   "cell_type": "markdown",
   "metadata": {},
   "source": [
    "# Checking the accuracu with the test "
   ]
  },
  {
   "cell_type": "code",
   "execution_count": 88,
   "metadata": {
    "collapsed": true
   },
   "outputs": [],
   "source": [
    "#Converting the Test data to processed format\n",
    "test_list=list(zip(test['gender'],test['description'])) \n",
    "\n"
   ]
  },
  {
   "cell_type": "code",
   "execution_count": 89,
   "metadata": {
    "collapsed": true
   },
   "outputs": [],
   "source": [
    "#\n",
    "test_desc=[]\n",
    "for i in range(len(test_list)):\n",
    "    if(i==1):\n",
    "        test_desc = [(preprocess(test_list[i][1]), test_list[i][0])]\n",
    "    else:\n",
    "        test_desc = test_desc+[(preprocess(test_list[i][1]), test_list[i][0])]"
   ]
  },
  {
   "cell_type": "code",
   "execution_count": 90,
   "metadata": {},
   "outputs": [
    {
     "name": "stdout",
     "output_type": "stream",
     "text": [
      "Before: 20142 , after: 5820\n"
     ]
    }
   ],
   "source": [
    "#\n",
    "#flatten the words into one list\n",
    "test_words = [w for words, c in test_desc for w in words]\n",
    "#\n",
    "test_freq = nltk.FreqDist(test_words)\n",
    "#\n",
    "selected_twords = [word for word, freq in test_freq.items() if freq>1]\n",
    "print('Before:',len(test_freq), ', after:', len(selected_twords))\n",
    "#\n",
    "test_desc = [([w for w in words if w in selected_twords], c) for words, c in test_desc]\n",
    "#\n",
    "tfeat = [(extract_features(words,selected_twords), c) for words, c in test_desc]"
   ]
  },
  {
   "cell_type": "markdown",
   "metadata": {},
   "source": [
    "## 3. Predicting Gender with Username, Description, and Status\n"
   ]
  },
  {
   "cell_type": "code",
   "execution_count": 283,
   "metadata": {
    "collapsed": true,
    "scrolled": true
   },
   "outputs": [],
   "source": [
    "entire_data=pd.concat([train,test],axis=0)"
   ]
  },
  {
   "cell_type": "code",
   "execution_count": 284,
   "metadata": {},
   "outputs": [
    {
     "data": {
      "text/plain": [
       "(8928, 4)"
      ]
     },
     "execution_count": 284,
     "metadata": {},
     "output_type": "execute_result"
    }
   ],
   "source": [
    "entire_data.shape"
   ]
  },
  {
   "cell_type": "code",
   "execution_count": 285,
   "metadata": {},
   "outputs": [
    {
     "data": {
      "text/plain": [
       "(2679, 3)"
      ]
     },
     "execution_count": 285,
     "metadata": {},
     "output_type": "execute_result"
    }
   ],
   "source": [
    "test.shape"
   ]
  },
  {
   "cell_type": "code",
   "execution_count": 286,
   "metadata": {},
   "outputs": [
    {
     "data": {
      "text/plain": [
       "(6249, 4)"
      ]
     },
     "execution_count": 286,
     "metadata": {},
     "output_type": "execute_result"
    }
   ],
   "source": [
    "train.shape"
   ]
  },
  {
   "cell_type": "code",
   "execution_count": 289,
   "metadata": {
    "collapsed": true
   },
   "outputs": [],
   "source": [
    "# Now you need to find a way to split the dictionary format status as multiple columns\n",
    "\n",
    "##run only once\n",
    "entire_data[\"status\"] = entire_data[\"status\"].apply(lambda x : dict(eval(x)))\n",
    "\n",
    "df3 = entire_data[\"status\"].apply(pd.Series)"
   ]
  },
  {
   "cell_type": "code",
   "execution_count": 290,
   "metadata": {
    "collapsed": true
   },
   "outputs": [],
   "source": [
    "#train['username']=train['username'].str.extract(r'.*?([A-Za-z]+).*?', expand=True)\n",
    "\n",
    "#named ending with a,e,i are likely to be females\n",
    "username_data=pd.DataFrame()\n",
    "username_data['last_name_ends_with_a_e_i']=entire_data['username'].apply(lambda x:\"True\" if x.endswith('a') else \"True\" if x.endswith('e') else \"True\" if x.endswith('i') else \"False\")\n",
    "\n",
    "#names ending in k, o, r, s and t are likely to be male\n",
    "username_data['last_name_ends_with_k_o_r_s_t']=entire_data['username'].apply(lambda x:\"True\" if x.endswith('a') else \"True\" if x.endswith('e') else \"True\" if x.endswith('i') else \"False\")"
   ]
  },
  {
   "cell_type": "code",
   "execution_count": 291,
   "metadata": {},
   "outputs": [
    {
     "data": {
      "text/plain": [
       "(8928, 54211)"
      ]
     },
     "execution_count": 291,
     "metadata": {},
     "output_type": "execute_result"
    }
   ],
   "source": [
    "from sklearn.feature_extraction.text import CountVectorizer\n",
    "import nltk\n",
    "\n",
    "\n",
    "cv2 = CountVectorizer(tokenizer=nltk.word_tokenize,stop_words='english')\n",
    "cv_fit2=cv2.fit_transform(entire_data['description']).toarray()\n",
    "description=pd.DataFrame(cv_fit2,columns=cv2.get_feature_names()) \n",
    "\n",
    "list_val=[description.columns]\n",
    "list_val=list(list_val[0])\n",
    "list_val=[d for d in list_val if len(d)>2]\n",
    "description=description[list_val]\n",
    "\n",
    "description.shape"
   ]
  },
  {
   "cell_type": "code",
   "execution_count": 292,
   "metadata": {},
   "outputs": [
    {
     "data": {
      "text/plain": [
       "8928"
      ]
     },
     "execution_count": 292,
     "metadata": {},
     "output_type": "execute_result"
    }
   ],
   "source": [
    "description=description.drop(description.columns[description.apply(lambda col: (col==0).astype(int).sum(axis=0) > 0.90*len(description))], axis=1)\n",
    "\n",
    "description.shape\n",
    "\n",
    "len(df3),len(description),len(entire_data['username'])\n",
    "\n",
    "df3.reset_index(inplace=True)\n",
    "df3.drop('index',axis=1,inplace=True)\n",
    "\n",
    "username_data.reset_index(inplace=True)\n",
    "\n",
    "len(entire_data),len(username_data),len(df3),len(description)\n",
    "\n",
    "len(entire_data)"
   ]
  },
  {
   "cell_type": "code",
   "execution_count": 293,
   "metadata": {
    "collapsed": true
   },
   "outputs": [],
   "source": [
    "entire_data=entire_data.reset_index()\n",
    "\n",
    "data=pd.concat([df3,description,username_data['last_name_ends_with_a_e_i'],username_data['last_name_ends_with_k_o_r_s_t']], axis=1)\n",
    "data=pd.concat([entire_data['username'],data],axis=1)"
   ]
  },
  {
   "cell_type": "code",
   "execution_count": 294,
   "metadata": {
    "collapsed": true
   },
   "outputs": [],
   "source": [
    "from sklearn.preprocessing import LabelEncoder,OneHotEncoder\n",
    "\n",
    "labelEnc=LabelEncoder()\n",
    "\n",
    "cat_vars=['deposit_made','email_verified','facebook_connected','identity_verified','payment_verified','phone_verified','profile_complete','last_name_ends_with_a_e_i','last_name_ends_with_k_o_r_s_t']\n",
    "for col in cat_vars:\n",
    "    data[col]=labelEnc.fit_transform(data[col])\n",
    "#     filtered_test[col]=labelEnc.fit_transform(filtered_test[col])\n",
    "    "
   ]
  },
  {
   "cell_type": "code",
   "execution_count": 295,
   "metadata": {},
   "outputs": [
    {
     "name": "stdout",
     "output_type": "stream",
     "text": [
      "<class 'pandas.core.frame.DataFrame'>\n",
      "RangeIndex: 8928 entries, 0 to 8927\n",
      "Data columns (total 28 columns):\n",
      "username                         8928 non-null object\n",
      "deposit_made                     8928 non-null int64\n",
      "email_verified                   8928 non-null int64\n",
      "facebook_connected               8928 non-null int64\n",
      "identity_verified                8928 non-null int64\n",
      "payment_verified                 8928 non-null int64\n",
      "phone_verified                   8928 non-null int64\n",
      "profile_complete                 8928 non-null int64\n",
      "business                         8928 non-null int64\n",
      "data                             8928 non-null int64\n",
      "design                           8928 non-null int64\n",
      "development                      8928 non-null int64\n",
      "experience                       8928 non-null int64\n",
      "php                              8928 non-null int64\n",
      "professional                     8928 non-null int64\n",
      "project                          8928 non-null int64\n",
      "projects                         8928 non-null int64\n",
      "quality                          8928 non-null int64\n",
      "services                         8928 non-null int64\n",
      "skills                           8928 non-null int64\n",
      "software                         8928 non-null int64\n",
      "time                             8928 non-null int64\n",
      "web                              8928 non-null int64\n",
      "work                             8928 non-null int64\n",
      "working                          8928 non-null int64\n",
      "years                            8928 non-null int64\n",
      "last_name_ends_with_a_e_i        8928 non-null int64\n",
      "last_name_ends_with_k_o_r_s_t    8928 non-null int64\n",
      "dtypes: int64(27), object(1)\n",
      "memory usage: 1.9+ MB\n"
     ]
    }
   ],
   "source": [
    "entire_data['gender']=entire_data['gender'].apply(lambda x:1 if x==\"M\" else 0)\n",
    "\n",
    "data.info()\n",
    "\n",
    "data1=data['username'][len(train):]\n",
    "\n",
    "data.drop('username',axis=1,inplace=True)\n",
    "\n",
    "train_cleaned=data[:len(train)]\n",
    "test_cleaned=data[len(train):]\n",
    "\n",
    "X=train_cleaned\n",
    "Y=entire_data['gender'][:len(train)]"
   ]
  },
  {
   "cell_type": "code",
   "execution_count": 296,
   "metadata": {},
   "outputs": [
    {
     "data": {
      "text/plain": [
       "81.049999999999997"
      ]
     },
     "execution_count": 296,
     "metadata": {},
     "output_type": "execute_result"
    }
   ],
   "source": [
    "from sklearn.model_selection import train_test_split\n",
    "X_train,X_test,Y_train,Y_test = train_test_split(X,Y, test_size = 0.30)\n",
    "\n",
    "Y_train.unique()\n",
    "\n",
    "logreg = LogisticRegression()\n",
    "logreg.fit(X_train, Y_train)\n",
    "Y_pred = logreg.predict_proba(X_test)\n",
    "acc_log = round(logreg.score(X_train, Y_train) * 100, 2)\n",
    "acc_log"
   ]
  },
  {
   "cell_type": "code",
   "execution_count": null,
   "metadata": {
    "collapsed": true
   },
   "outputs": [],
   "source": []
  },
  {
   "cell_type": "code",
   "execution_count": 297,
   "metadata": {
    "collapsed": true
   },
   "outputs": [],
   "source": [
    "data1=pd.DataFrame(data1).reset_index()\n",
    "\n",
    "data1.drop('index',axis=1,inplace=True)\n",
    "\n",
    "test_Survived = pd.Series(logreg.predict_proba(test_cleaned)[:,1], name=\"prediction\")\n",
    "\n",
    "\n",
    "\n",
    "#Y_test=Y_test.apply(lambda x:'M' if x==1 else 'F')\n",
    "\n",
    "test_Survived=test_Survived.apply(lambda x: 'M' if x>0.5 else \"F\")\n",
    "# data1[len(X)]\n",
    "results = pd.concat([data1,test_Survived],axis=1)\n",
    "\n",
    "results.to_csv('prg16105_2.csv')"
   ]
  },
  {
   "cell_type": "markdown",
   "metadata": {},
   "source": [
    "# Running different models for it"
   ]
  },
  {
   "cell_type": "code",
   "execution_count": 298,
   "metadata": {},
   "outputs": [
    {
     "data": {
      "image/png": "[encoded data removed]",
      "text/plain": [
       "<matplotlib.figure.Figure at 0x2a25b8386a0>"
      ]
     },
     "metadata": {},
     "output_type": "display_data"
    }
   ],
   "source": [
    "\n",
    "random_state = 2\n",
    "classifiers = []\n",
    "classifiers.append(SVC(random_state=random_state))\n",
    "classifiers.append(DecisionTreeClassifier(random_state=random_state))\n",
    "classifiers.append(AdaBoostClassifier(DecisionTreeClassifier(random_state=random_state),random_state=random_state,learning_rate=0.1))\n",
    "classifiers.append(ExtraTreesClassifier(random_state=random_state))\n",
    "classifiers.append(GradientBoostingClassifier(random_state=random_state))\n",
    "classifiers.append(MLPClassifier(random_state=random_state))\n",
    "classifiers.append(KNeighborsClassifier())\n",
    "classifiers.append(LogisticRegression(random_state = random_state))\n",
    "classifiers.append(LinearDiscriminantAnalysis())\n",
    "#classifiers.append(LGBMClassifier(random_state=random_state))\n",
    "cv_results = []\n",
    "for classifier in classifiers :\n",
    "    cv_results.append(cross_val_score(classifier, X_test, y = Y_test, scoring = \"accuracy\", cv = 10, n_jobs=4))\n",
    "\n",
    "cv_means = []\n",
    "cv_std = []\n",
    "for cv_result in cv_results:\n",
    "    cv_means.append(cv_result.mean())\n",
    "    cv_std.append(cv_result.std())\n",
    "\n",
    "cv_res = pd.DataFrame({\"CrossValMeans\":cv_means,\"CrossValerrors\": cv_std,\"Algorithm\":[\"SVC\",\"DecisionTree\",\"AdaBoost\",\n",
    "\"ExtraTrees\",\"GradientBoosting\",\"MultipleLayerPerceptron\",\"KNeighboors\",\"LogisticRegression\",\"LinearDiscriminantAnalysis\"]})\n",
    "\n",
    "plt.figure(figsize=(10,8))\n",
    "g = sns.barplot(\"CrossValMeans\",\"Algorithm\",data = cv_res, palette=\"Set3\",orient = \"h\",**{'xerr':cv_std})\n",
    "g.set_xlabel(\"Mean Accuracy\")\n",
    "g = g.set_title(\"Cross validation scores\")\n",
    "plt.show()"
   ]
  },
  {
   "cell_type": "code",
   "execution_count": 299,
   "metadata": {
    "collapsed": true
   },
   "outputs": [],
   "source": [
    "# From the above graph we can see that GBC , SVC is performing best in this "
   ]
  },
  {
   "cell_type": "code",
   "execution_count": 300,
   "metadata": {},
   "outputs": [
    {
     "name": "stdout",
     "output_type": "stream",
     "text": [
      "Fitting 5 folds for each of 72 candidates, totalling 360 fits\n"
     ]
    },
    {
     "name": "stderr",
     "output_type": "stream",
     "text": [
      "[Parallel(n_jobs=4)]: Done  42 tasks      | elapsed:    5.9s\n",
      "[Parallel(n_jobs=4)]: Done 192 tasks      | elapsed:   14.5s\n",
      "[Parallel(n_jobs=4)]: Done 360 out of 360 | elapsed:   23.3s finished\n"
     ]
    }
   ],
   "source": [
    "GBC = GradientBoostingClassifier()\n",
    "gb_param_grid = {\n",
    "              'n_estimators' : [40,60,100],\n",
    "              'learning_rate': [0.1,0.005,0.2],\n",
    "              'max_depth': [4, 8],\n",
    "              'min_samples_leaf': [100,150],\n",
    "              'max_features': [0.3, 0.1] \n",
    "              }\n",
    "\n",
    "gsGBC = GridSearchCV(GBC,param_grid = gb_param_grid, cv=5, scoring=\"accuracy\", n_jobs= 4, verbose = 1)\n",
    "\n",
    "gsGBC.fit(X_train,Y_train)\n",
    "\n",
    "GBC_best = gsGBC.best_estimator_\n",
    "#RFC_best = gsRFC.best_estimator_\n",
    "\n",
    "\n"
   ]
  },
  {
   "cell_type": "markdown",
   "metadata": {},
   "source": [
    "# checking the prediction from the best model"
   ]
  },
  {
   "cell_type": "code",
   "execution_count": 301,
   "metadata": {
    "collapsed": true
   },
   "outputs": [],
   "source": [
    "\n",
    "test_Survived = pd.Series(GBC_best.predict_proba(test_cleaned)[:,1], name=\"prediction\")\n",
    "\n",
    "\n",
    "\n",
    "#Y_test=Y_test.apply(lambda x:'M' if x==1 else 'F')\n",
    "\n",
    "test_Survived=test_Survived.apply(lambda x: 'M' if x>0.5 else \"F\")\n",
    "# data1[len(X)]\n",
    "results = pd.concat([data1,test_Survived],axis=1)\n",
    "\n",
    "results.to_csv('prg16105_3.csv')"
   ]
  },
  {
   "cell_type": "code",
   "execution_count": 302,
   "metadata": {
    "collapsed": true
   },
   "outputs": [],
   "source": [
    "#Checking the accuracy with the best model"
   ]
  },
  {
   "cell_type": "code",
   "execution_count": 303,
   "metadata": {},
   "outputs": [
    {
     "data": {
      "text/plain": [
       "0.81759999999999999"
      ]
     },
     "execution_count": 303,
     "metadata": {},
     "output_type": "execute_result"
    }
   ],
   "source": [
    "GBC_best.score(X_test,Y_test)"
   ]
  }
 ],
 "metadata": {
  "kernelspec": {
   "display_name": "Python 3",
   "language": "python",
   "name": "python3"
  },
  "language_info": {
   "codemirror_mode": {
    "name": "ipython",
    "version": 3
   },
   "file_extension": ".py",
   "mimetype": "text/x-python",
   "name": "python",
   "nbconvert_exporter": "python",
   "pygments_lexer": "ipython3",
   "version": "3.6.3"
  }
 },
 "nbformat": 4,
 "nbformat_minor": 2
}
